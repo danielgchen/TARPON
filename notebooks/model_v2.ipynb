{
 "cells": [
  {
   "cell_type": "code",
   "execution_count": 1,
   "id": "af55dcc5",
   "metadata": {},
   "outputs": [],
   "source": [
    "import pandas as pd\n",
    "import numpy as np\n",
    "import matplotlib.pyplot as plt\n",
    "import seaborn as sns\n",
    "from sklearn.model_selection import StratifiedShuffleSplit\n",
    "from sklearn.metrics import roc_auc_score, accuracy_score, auc\n",
    "from sklearn.linear_model import LogisticRegression\n",
    "from sklearn.ensemble import RandomForestClassifier"
   ]
  },
  {
   "cell_type": "code",
   "execution_count": 2,
   "id": "15532f65",
   "metadata": {},
   "outputs": [],
   "source": [
    "# load in the CMV data\n",
    "df = pd.read_table('/ssd1/dchen/GNN_PEPTIDE_TCR/data/vdjdb_confidence2_trb_hlaa0201_humanonly.tsv', index_col=0)\n",
    "df = df.reset_index().iloc[:, 1:]\n",
    "assert sum(df['Epitope'] == 'NLVPMVATV') == sum(df['Epitope gene'] == 'pp65')\n",
    "assert df['CDR3'].apply(lambda x: x.count(' ')).max() == 0\n",
    "assert df['CDR3'].apply(lambda x: x.count('_')).max() == 0\n",
    "assert df['CDR3'].apply(lambda x: x.count('-')).max() == 0\n",
    "assert df['CDR3'].apply(lambda x: x.count('#')).max() == 0"
   ]
  },
  {
   "cell_type": "code",
   "execution_count": 3,
   "id": "c8a57dce",
   "metadata": {},
   "outputs": [],
   "source": [
    "# create constant maps\n",
    "amino_acid_charge = {\n",
    "    'A': 0,  # Alanine\n",
    "    'R': 1,  # Arginine\n",
    "    'N': 0,  # Asparagine\n",
    "    'D': -1,  # Aspartic Acid\n",
    "    'C': 0,  # Cysteine\n",
    "    'E': -1,  # Glutamic Acid\n",
    "    'Q': 0,  # Glutamine\n",
    "    'G': 0,  # Glycine\n",
    "    'H': 0,  # Histidine\n",
    "    'I': 0,  # Isoleucine\n",
    "    'L': 0,  # Leucine\n",
    "    'K': 1,  # Lysine\n",
    "    'M': 0,  # Methionine\n",
    "    'F': 0,  # Phenylalanine\n",
    "    'P': 0,  # Proline\n",
    "    'S': 0,  # Serine\n",
    "    'T': 0,  # Threonine\n",
    "    'W': 0,  # Tryptophan\n",
    "    'Y': 0,  # Tyrosine\n",
    "    'V': 0,  # Valine\n",
    "}\n",
    "\n",
    "# https://www.cgl.ucsf.edu/chimera/docs/UsersGuide/midas/hydrophob.html (kd)\n",
    "amino_acid_hydrophobicity = {\n",
    "    'A': 1.8,  # Alanine\n",
    "    'R': -4.5,  # Arginine\n",
    "    'N': -3.5,  # Asparagine\n",
    "    'D': -3.5,  # Aspartic Acid\n",
    "    'C': 2.5,  # Cysteine\n",
    "    'E': -3.5,  # Glutamic Acid\n",
    "    'Q': -3.5,  # Glutamine\n",
    "    'G': -0.4,  # Glycine\n",
    "    'H': -3.2,  # Histidine\n",
    "    'I': 4.5,  # Isoleucine\n",
    "    'L': 3.8,  # Leucine\n",
    "    'K': -3.9,  # Lysine\n",
    "    'M': 1.9,  # Methionine\n",
    "    'F': 2.8,  # Phenylalanine\n",
    "    'P': -1.6,  # Proline\n",
    "    'S': -0.8,  # Serine\n",
    "    'T': -0.7,  # Threonine\n",
    "    'W': -0.9,  # Tryptophan\n",
    "    'Y': -1.3,  # Tyrosine\n",
    "    'V': 4.2,  # Valine\n",
    "}\n",
    "\n",
    "amino_acid_weights = {\n",
    "    'A': 89.09,   # Alanine\n",
    "    'R': 174.20,  # Arginine\n",
    "    'N': 132.12,  # Asparagine\n",
    "    'D': 133.10,  # Aspartic Acid\n",
    "    'C': 121.16,  # Cysteine\n",
    "    'E': 147.13,  # Glutamic Acid\n",
    "    'Q': 146.15,  # Glutamine\n",
    "    'G': 75.07,   # Glycine\n",
    "    'H': 155.16,  # Histidine\n",
    "    'I': 131.18,  # Isoleucine\n",
    "    'L': 131.18,  # Leucine\n",
    "    'K': 146.19,  # Lysine\n",
    "    'M': 149.21,  # Methionine\n",
    "    'F': 165.19,  # Phenylalanine\n",
    "    'P': 115.13,  # Proline\n",
    "    'S': 105.09,  # Serine\n",
    "    'T': 119.12,  # Threonine\n",
    "    'W': 204.23,  # Tryptophan\n",
    "    'Y': 181.19,  # Tyrosine\n",
    "    'V': 117.15,  # Valine\n",
    "}\n",
    "\n",
    "has_sulfur = ['C','M']\n",
    "is_aromatic = ['F','Y','W']"
   ]
  },
  {
   "cell_type": "code",
   "execution_count": 4,
   "id": "e505411e",
   "metadata": {
    "scrolled": true
   },
   "outputs": [
    {
     "name": "stderr",
     "output_type": "stream",
     "text": [
      "100%|███████████████████████████████████████| 1141/1141 [00:22<00:00, 51.63it/s]\n"
     ]
    }
   ],
   "source": [
    "from tqdm import tqdm\n",
    "# the first step is the interpolation of nucleotide\n",
    "alphabet = sorted(set([el for x in df['CDR3'] for el in list(x)]))\n",
    "# work through an example\n",
    "columns = alphabet+['charge','hydrophobicity','weight','sulfur','aromatic']\n",
    "X_cdr3s = pd.DataFrame(index=range(df.shape[0]), columns=[f'{idx}{col}' for idx in range(100) for col in columns])\n",
    "for pep_idx in tqdm(X_cdr3s.index):\n",
    "    # grab peptide\n",
    "    peptide = df['CDR3'].iloc[pep_idx]\n",
    "    # create the tracking dataframe\n",
    "    X = pd.DataFrame(np.nan, index=range(100), columns=columns)\n",
    "    step = 100 / len(peptide)\n",
    "    for idx, aa in enumerate(peptide):\n",
    "        # find start and end of each peptide\n",
    "        start, end = round(idx * step), round((idx + 1) * step)\n",
    "        if idx == len(peptide) - 1:\n",
    "            end = 100\n",
    "        # map to the coordinates, weight is scaled by 0.01 to reduce to single digit values, same with hydrop with 0.5\n",
    "        charge = amino_acid_charge[aa]\n",
    "        hydrophobicity = amino_acid_hydrophobicity[aa] / 2\n",
    "        weight = amino_acid_weights[aa] / 100\n",
    "        sulfur = 1 * (aa in has_sulfur)\n",
    "        aromatic = 1 * (aa in is_aromatic)\n",
    "        X.loc[start:end, alphabet] = 0\n",
    "        X.loc[start:end, aa] = 1\n",
    "        X.loc[start:end, ['charge','hydrophobicity','weight','sulfur','aromatic']] = charge, hydrophobicity, weight, sulfur, aromatic\n",
    "    assert not X.isna().any().any()\n",
    "    X_cdr3s.loc[pep_idx] = X.values.flatten()"
   ]
  },
  {
   "cell_type": "code",
   "execution_count": 5,
   "id": "5e630585",
   "metadata": {},
   "outputs": [
    {
     "name": "stderr",
     "output_type": "stream",
     "text": [
      "100%|███████████████████████████████████████| 1141/1141 [00:14<00:00, 76.23it/s]\n"
     ]
    }
   ],
   "source": [
    "# this second step is repeating the same thing but for the peptides\n",
    "alphabet = sorted(set([el for x in df['Epitope'] for el in list(x)]))\n",
    "# work through an example\n",
    "columns = alphabet+['charge','hydrophobicity','weight','sulfur','aromatic']\n",
    "X_epitopes = pd.DataFrame(index=range(df.shape[0]), columns=[f'{idx}{col}' for idx in range(100) for col in columns])\n",
    "for pep_idx in tqdm(X_epitopes.index):\n",
    "    # grab peptide\n",
    "    peptide = df['Epitope'].iloc[pep_idx]\n",
    "    # create the tracking dataframe\n",
    "    X = pd.DataFrame(np.nan, index=range(100), columns=columns)\n",
    "    step = 100 / len(peptide)\n",
    "    for idx, aa in enumerate(peptide):\n",
    "        # find start and end of each peptide\n",
    "        start, end = round(idx * step), round((idx + 1) * step)\n",
    "        if idx == len(peptide) - 1:\n",
    "            end = 100\n",
    "        # map to the coordinates, weight is scaled by 0.01 to reduce to single digit values, same with hydrop with 0.5\n",
    "        charge = amino_acid_charge[aa]\n",
    "        hydrophobicity = amino_acid_hydrophobicity[aa] / 2\n",
    "        weight = amino_acid_weights[aa] / 100\n",
    "        sulfur = 1 * (aa in has_sulfur)\n",
    "        aromatic = 1 * (aa in is_aromatic)\n",
    "        X.loc[start:end, alphabet] = 0\n",
    "        X.loc[start:end, aa] = 1\n",
    "        X.loc[start:end, ['charge','hydrophobicity','weight','sulfur','aromatic']] = charge, hydrophobicity, weight, sulfur, aromatic\n",
    "    assert not X.isna().any().any()\n",
    "    X_epitopes.loc[pep_idx] = X.values.flatten()"
   ]
  },
  {
   "cell_type": "code",
   "execution_count": 6,
   "id": "51ee5217",
   "metadata": {},
   "outputs": [],
   "source": [
    "# define y\n",
    "y = pd.Series(1, index=X_cdr3s.index)"
   ]
  },
  {
   "cell_type": "code",
   "execution_count": 7,
   "id": "e3794eec",
   "metadata": {},
   "outputs": [],
   "source": [
    "# join together the two dataframes\n",
    "X_cdr3s.columns = 'cdr3:' + X_cdr3s.columns\n",
    "X_epitopes.columns = 'ag:' + X_epitopes.columns"
   ]
  },
  {
   "cell_type": "code",
   "execution_count": 8,
   "id": "377e24dd",
   "metadata": {},
   "outputs": [],
   "source": [
    "# reclaim cdr3 alphabet\n",
    "alphabet_cdr3 = sorted(set([el for x in df['CDR3'] for el in list(x)]))\n",
    "# reclaim epitope alphabet\n",
    "alphabet_epitope = sorted(set([el for x in df['Epitope'] for el in list(x)]))"
   ]
  },
  {
   "cell_type": "code",
   "execution_count": 9,
   "id": "482a5f2b",
   "metadata": {},
   "outputs": [
    {
     "name": "stderr",
     "output_type": "stream",
     "text": [
      "127it [07:24,  3.50s/it]\n"
     ]
    }
   ],
   "source": [
    "# now we need to add a few control elements\n",
    "# for each given peptide, i want to randomly select TCRs that do not bind to it of equal number\n",
    "np.random.seed(0)\n",
    "for _, (epitope, n_tcrs) in tqdm(df['Epitope'].value_counts().reset_index().iterrows()):\n",
    "    # grab peptide\n",
    "    peptide = df['Epitope'].iloc[pep_idx]\n",
    "    # create the tracking dataframe\n",
    "    X = pd.DataFrame(np.nan, index=range(100), columns=columns)\n",
    "    step = 100 / len(peptide)\n",
    "    for idx, aa in enumerate(peptide):\n",
    "        # find start and end of each peptide\n",
    "        start, end = round(idx * step), round((idx + 1) * step)\n",
    "        if idx == len(peptide) - 1:\n",
    "            end = 100\n",
    "        # map to the coordinates, weight is scaled by 0.01 to reduce to single digit values, same with hydrop with 0.5\n",
    "        charge = amino_acid_charge[aa]\n",
    "        hydrophobicity = amino_acid_hydrophobicity[aa] / 2\n",
    "        weight = amino_acid_weights[aa] / 100\n",
    "        sulfur = 1 * (aa in has_sulfur)\n",
    "        aromatic = 1 * (aa in is_aromatic)\n",
    "        X.loc[start:end, alphabet_epitope] = 0\n",
    "        X.loc[start:end, aa] = 1\n",
    "        X.loc[start:end, ['charge','hydrophobicity','weight','sulfur','aromatic']] = charge, hydrophobicity, weight, sulfur, aromatic\n",
    "    assert not X.isna().any().any()\n",
    "    X_epitope = X.values.flatten()\n",
    "    \n",
    "    # make sure we are not getting this epitope nor cdr3s known to bind to this epitope\n",
    "    mask = df['Epitope'] != epitope\n",
    "    cdr3s_epitope = df.loc[df['Epitope'] == epitope, 'CDR3'].unique()\n",
    "    mask = mask & (~df['CDR3'].isin(cdr3s_epitope))\n",
    "    \n",
    "    # now lets select with replacement the other ones\n",
    "    cdr3s = np.random.choice(df.loc[mask, 'CDR3'], size=n_tcrs, replace=True)\n",
    "    \n",
    "    for cdr3 in cdr3s:\n",
    "        # grab peptide\n",
    "        peptide = df['CDR3'].iloc[pep_idx]\n",
    "        # create the tracking dataframe\n",
    "        X = pd.DataFrame(np.nan, index=range(100), columns=columns)\n",
    "        step = 100 / len(peptide)\n",
    "        for idx, aa in enumerate(peptide):\n",
    "            # find start and end of each peptide\n",
    "            start, end = round(idx * step), round((idx + 1) * step)\n",
    "            if idx == len(peptide) - 1:\n",
    "                end = 100\n",
    "            # map to the coordinates, weight is scaled by 0.01 to reduce to single digit values, same with hydrop with 0.5\n",
    "            charge = amino_acid_charge[aa]\n",
    "            hydrophobicity = amino_acid_hydrophobicity[aa] / 2\n",
    "            weight = amino_acid_weights[aa] / 100\n",
    "            sulfur = 1 * (aa in has_sulfur)\n",
    "            aromatic = 1 * (aa in is_aromatic)\n",
    "            X.loc[start:end, alphabet_cdr3] = 0\n",
    "            X.loc[start:end, aa] = 1\n",
    "            X.loc[start:end, ['charge','hydrophobicity','weight','sulfur','aromatic']] = charge, hydrophobicity, weight, sulfur, aromatic\n",
    "        assert not X.isna().any().any()\n",
    "        X_cdr3 = X.values.flatten()\n",
    "        # append\n",
    "        X_cdr3s.loc[X_cdr3s.shape[0]] = X_cdr3\n",
    "        X_epitopes.loc[X_epitopes.shape[0]] = X_epitope\n",
    "        y.loc[y.shape[0]] = 0"
   ]
  },
  {
   "cell_type": "code",
   "execution_count": 11,
   "id": "7d665da9",
   "metadata": {},
   "outputs": [],
   "source": [
    "# rejoin these dataframes together\n",
    "X = X_cdr3s.join(X_epitopes)\n",
    "# remove any columns that are constant or all zero\n",
    "X = X.loc[:, X.abs().sum(0) > 0]\n",
    "X = X.loc[:, X.nunique(0) > 1]"
   ]
  },
  {
   "cell_type": "code",
   "execution_count": 12,
   "id": "a7404f0f",
   "metadata": {},
   "outputs": [
    {
     "data": {
      "text/plain": [
       "3807"
      ]
     },
     "execution_count": 12,
     "metadata": {},
     "output_type": "execute_result"
    }
   ],
   "source": [
    "# now display the number of arguments post filtering\n",
    "X.shape[1]"
   ]
  },
  {
   "cell_type": "code",
   "execution_count": 13,
   "id": "caa7b790",
   "metadata": {},
   "outputs": [],
   "source": [
    "# normalize\n",
    "means = X.mean()\n",
    "X -= X.mean()\n",
    "stds = X.std()\n",
    "X /= X.std()"
   ]
  },
  {
   "cell_type": "code",
   "execution_count": 14,
   "id": "935c6831",
   "metadata": {},
   "outputs": [],
   "source": [
    "# naively work through everything at once"
   ]
  },
  {
   "cell_type": "code",
   "execution_count": 15,
   "id": "2b6aa060",
   "metadata": {
    "scrolled": true
   },
   "outputs": [
    {
     "data": {
      "text/plain": [
       "0.9995617879053462"
      ]
     },
     "execution_count": 15,
     "metadata": {},
     "output_type": "execute_result"
    }
   ],
   "source": [
    "# now let's create the logit model\n",
    "clf = LogisticRegression(max_iter=1000).fit(X, y)\n",
    "clf.score(X, y)"
   ]
  },
  {
   "cell_type": "code",
   "execution_count": 16,
   "id": "060e890f",
   "metadata": {},
   "outputs": [
    {
     "data": {
      "text/plain": [
       "<AxesSubplot:xlabel='Hit', ylabel='Probability'>"
      ]
     },
     "execution_count": 16,
     "metadata": {},
     "output_type": "execute_result"
    },
    {
     "data": {
      "image/png": "[encoded data removed]",
      "text/plain": [
       "<Figure size 200x400 with 1 Axes>"
      ]
     },
     "metadata": {},
     "output_type": "display_data"
    }
   ],
   "source": [
    "# retrieve probabilities\n",
    "probs = pd.DataFrame(clf.predict_proba(X)[:, 1], index=y.index, columns=['Probability'])\n",
    "probs['Hit'] = y\n",
    "# plot probabilities\n",
    "fig, ax = plt.subplots(figsize=[2, 4])\n",
    "sns.barplot(x='Hit', y='Probability', data=probs, ci=95, errwidth=1.5, capsize=0.3, saturation=1)"
   ]
  },
  {
   "cell_type": "code",
   "execution_count": 19,
   "id": "045004b1",
   "metadata": {},
   "outputs": [],
   "source": [
    "!mkdir ../outputs/vdjdb"
   ]
  },
  {
   "cell_type": "code",
   "execution_count": 20,
   "id": "2bc1e1c4",
   "metadata": {},
   "outputs": [],
   "source": [
    "# save these datasets\n",
    "X.to_csv('../outputs/vdjdb/trb_ag.X.csv')\n",
    "y.to_csv('../outputs/vdjdb/trb_ag.y.csv')"
   ]
  },
  {
   "cell_type": "code",
   "execution_count": 10,
   "id": "03864b38",
   "metadata": {},
   "outputs": [],
   "source": [
    "# read these datasets\n",
    "X = pd.read_csv('../outputs/vdjdb/trb_ag.X.csv', index_col=0)\n",
    "y = pd.read_csv('../outputs/vdjdb/trb_ag.y.csv', index_col=0)['0']"
   ]
  },
  {
   "cell_type": "code",
   "execution_count": 119,
   "id": "ac4f65cf",
   "metadata": {},
   "outputs": [],
   "source": [
    "# now let's do true cross validation"
   ]
  },
  {
   "cell_type": "code",
   "execution_count": 15,
   "id": "d567e454",
   "metadata": {
    "scrolled": true
   },
   "outputs": [
    {
     "name": "stdout",
     "output_type": "stream",
     "text": [
      "...................................................................................................."
     ]
    }
   ],
   "source": [
    "# now let's create the logit model\n",
    "np.random.seed(0)\n",
    "sss = StratifiedShuffleSplit(n_splits=100, test_size=0.25, random_state=0)\n",
    "accs = []\n",
    "aucs = []\n",
    "probs = []\n",
    "coefs = []\n",
    "for idxs, idys in sss.split(X, y):\n",
    "    # train on idxs\n",
    "    clf = LogisticRegression(max_iter=1000, random_state=0).fit(X.iloc[idxs], y.iloc[idxs])\n",
    "    # scrutinize via idys\n",
    "    accs.append(clf.score(X.iloc[idys], y.iloc[idys]))\n",
    "    aucs.append(roc_auc_score(clf.predict(X.iloc[idys]), y.iloc[idys]))\n",
    "    prob = pd.Series(clf.predict_proba(X.iloc[idys])[:, 1], index=y.iloc[idys].index)\n",
    "    probs.append(prob)\n",
    "    coefs.append(pd.Series(clf.coef_[0], index=clf.feature_names_in_))\n",
    "    print('.', end='')"
   ]
  },
  {
   "cell_type": "code",
   "execution_count": 16,
   "id": "de770b01",
   "metadata": {},
   "outputs": [
    {
     "name": "stdout",
     "output_type": "stream",
     "text": [
      "0.9995971978984238 0.0001444538907478147\n",
      "0.9995985721595477 0.00014396133394456112\n"
     ]
    },
    {
     "data": {
      "image/png": "[encoded data removed]",
      "text/plain": [
       "<Figure size 200x400 with 1 Axes>"
      ]
     },
     "metadata": {},
     "output_type": "display_data"
    }
   ],
   "source": [
    "# retrieve probabilities\n",
    "probs = pd.DataFrame(clf.predict_proba(X)[:, 1], index=y.index, columns=['Probability'])\n",
    "probs['Hit'] = y\n",
    "# plot probabilities\n",
    "fig, ax = plt.subplots(figsize=[2, 4])\n",
    "sns.barplot(x='Hit', y='Probability', data=probs, ci=95, errwidth=1.5, capsize=0.3, saturation=1)\n",
    "print(np.mean(accs), 1.96 * np.std(accs) / np.sqrt(len(accs)))\n",
    "print(np.mean(aucs), 1.96 * np.std(aucs) / np.sqrt(len(aucs)))"
   ]
  },
  {
   "cell_type": "code",
   "execution_count": 17,
   "id": "91f2c2c3",
   "metadata": {},
   "outputs": [
    {
     "data": {
      "text/plain": [
       "[Text(0.5, 0, 'Rank'), Text(0, 0.5, 'Coefficient')]"
      ]
     },
     "execution_count": 17,
     "metadata": {},
     "output_type": "execute_result"
    },
    {
     "data": {
      "image/png": "[encoded data removed]",
      "text/plain": [
       "<Figure size 400x400 with 1 Axes>"
      ]
     },
     "metadata": {},
     "output_type": "display_data"
    }
   ],
   "source": [
    "# average the coefficients\n",
    "coef = pd.concat(coefs, axis=1).mean(1).sort_values()\n",
    "fig, ax = plt.subplots(figsize=[4, 4])\n",
    "ax.grid(False)\n",
    "ax.scatter(range(coef.shape[0]), coef[::-1])\n",
    "ax.set(xlabel='Rank', ylabel='Coefficient')"
   ]
  },
  {
   "cell_type": "code",
   "execution_count": 21,
   "id": "a967028a",
   "metadata": {
    "scrolled": true
   },
   "outputs": [
    {
     "name": "stdout",
     "output_type": "stream",
     "text": [
      "...................................................................................................."
     ]
    }
   ],
   "source": [
    "# now let's create the logit model\n",
    "np.random.seed(0)\n",
    "sss = StratifiedShuffleSplit(n_splits=100, test_size=0.25, random_state=0)\n",
    "accs = []\n",
    "aucs = []\n",
    "probs = []\n",
    "imps = []\n",
    "for idxs, idys in sss.split(X, y):\n",
    "    # train on idxs\n",
    "    clf = RandomForestClassifier(n_estimators=100, random_state=0).fit(X.iloc[idxs], y.iloc[idxs])\n",
    "    # scrutinize via idys\n",
    "    accs.append(clf.score(X.iloc[idys], y.iloc[idys]))\n",
    "    aucs.append(roc_auc_score(clf.predict(X.iloc[idys]), y.iloc[idys]))\n",
    "    imps.append(pd.Series(clf.feature_importances_, index=clf.feature_names_in_))\n",
    "    prob = pd.Series(clf.predict_proba(X.iloc[idys])[:, 1], index=y.iloc[idys].index)\n",
    "    probs.append(prob)\n",
    "    print('.', end='')"
   ]
  },
  {
   "cell_type": "code",
   "execution_count": 22,
   "id": "32f4ccc4",
   "metadata": {},
   "outputs": [
    {
     "data": {
      "text/plain": [
       "[Text(0.5, 0, 'Rank'), Text(0, 0.5, 'Importance')]"
      ]
     },
     "execution_count": 22,
     "metadata": {},
     "output_type": "execute_result"
    },
    {
     "data": {
      "image/png": "[encoded data removed]",
      "text/plain": [
       "<Figure size 400x400 with 1 Axes>"
      ]
     },
     "metadata": {},
     "output_type": "display_data"
    }
   ],
   "source": [
    "# now compute the importances\n",
    "imp = pd.concat(imps, axis=1).mean(1).sort_values()\n",
    "fig, ax = plt.subplots(figsize=[4, 4])\n",
    "ax.grid(False)\n",
    "ax.scatter(range(imp.shape[0]), imp[::-1])\n",
    "ax.set(xlabel='Rank', ylabel='Importance')"
   ]
  },
  {
   "cell_type": "code",
   "execution_count": 23,
   "id": "e63d777b",
   "metadata": {},
   "outputs": [
    {
     "data": {
      "text/plain": [
       "<matplotlib.collections.PathCollection at 0x7f26896f9e80>"
      ]
     },
     "execution_count": 23,
     "metadata": {},
     "output_type": "execute_result"
    },
    {
     "data": {
      "image/png": "[encoded data removed]",
      "text/plain": [
       "<Figure size 640x480 with 1 Axes>"
      ]
     },
     "metadata": {},
     "output_type": "display_data"
    }
   ],
   "source": [
    "# now let's do a volcano plot\n",
    "plt.scatter(coef, imp.loc[coef.index])"
   ]
  },
  {
   "cell_type": "code",
   "execution_count": 26,
   "id": "63ddf99e",
   "metadata": {},
   "outputs": [],
   "source": [
    "# save the variable\n",
    "coef.name = 'coef'\n",
    "imp.name = 'imp'\n",
    "pd.DataFrame(coef).join(imp).to_csv('../outputs/vdjdb/trb_ag.coef_imp.csv')"
   ]
  },
  {
   "cell_type": "code",
   "execution_count": 28,
   "id": "2a3353fa",
   "metadata": {},
   "outputs": [],
   "source": []
  },
  {
   "cell_type": "code",
   "execution_count": null,
   "id": "7a2b4e5b",
   "metadata": {},
   "outputs": [],
   "source": []
  }
 ],
 "metadata": {
  "kernelspec": {
   "display_name": "Python 3",
   "language": "python",
   "name": "python3"
  },
  "language_info": {
   "codemirror_mode": {
    "name": "ipython",
    "version": 3
   },
   "file_extension": ".py",
   "mimetype": "text/x-python",
   "name": "python",
   "nbconvert_exporter": "python",
   "pygments_lexer": "ipython3",
   "version": "3.8.13"
  }
 },
 "nbformat": 4,
 "nbformat_minor": 5
}
