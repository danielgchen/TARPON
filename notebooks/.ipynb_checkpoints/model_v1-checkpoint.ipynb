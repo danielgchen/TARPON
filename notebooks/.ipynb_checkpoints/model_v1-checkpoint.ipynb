{
 "cells": [
  {
   "cell_type": "code",
   "execution_count": 97,
   "id": "af55dcc5",
   "metadata": {},
   "outputs": [],
   "source": [
    "import pandas as pd\n",
    "import numpy as np\n",
    "import matplotlib.pyplot as plt\n",
    "import seaborn as sns\n",
    "from sklearn.model_selection import StratifiedShuffleSplit\n",
    "from sklearn.metrics import roc_auc_score, accuracy_score, auc\n",
    "from sklearn.linear_model import LogisticRegression\n",
    "from sklearn.ensemble import RandomForestClassifier"
   ]
  },
  {
   "cell_type": "code",
   "execution_count": 108,
   "id": "15532f65",
   "metadata": {},
   "outputs": [],
   "source": [
    "# load in the CMV data\n",
    "df = pd.read_table('/ssd1/dchen/GNN_PEPTIDE_TCR/data/vdjdb_confidence2_trb_hlaa0201_humanonly.tsv', index_col=0)\n",
    "df = df.reset_index().iloc[:, 1:]\n",
    "assert sum(df['Epitope'] == 'NLVPMVATV') == sum(df['Epitope gene'] == 'pp65')\n",
    "assert df['CDR3'].apply(lambda x: x.count(' ')).max() == 0\n",
    "assert df['CDR3'].apply(lambda x: x.count('_')).max() == 0\n",
    "assert df['CDR3'].apply(lambda x: x.count('-')).max() == 0\n",
    "assert df['CDR3'].apply(lambda x: x.count('#')).max() == 0"
   ]
  },
  {
   "cell_type": "code",
   "execution_count": 109,
   "id": "c8a57dce",
   "metadata": {},
   "outputs": [],
   "source": [
    "# create constant maps\n",
    "amino_acid_charge = {\n",
    "    'A': 0,  # Alanine\n",
    "    'R': 1,  # Arginine\n",
    "    'N': 0,  # Asparagine\n",
    "    'D': -1,  # Aspartic Acid\n",
    "    'C': 0,  # Cysteine\n",
    "    'E': -1,  # Glutamic Acid\n",
    "    'Q': 0,  # Glutamine\n",
    "    'G': 0,  # Glycine\n",
    "    'H': 0,  # Histidine\n",
    "    'I': 0,  # Isoleucine\n",
    "    'L': 0,  # Leucine\n",
    "    'K': 1,  # Lysine\n",
    "    'M': 0,  # Methionine\n",
    "    'F': 0,  # Phenylalanine\n",
    "    'P': 0,  # Proline\n",
    "    'S': 0,  # Serine\n",
    "    'T': 0,  # Threonine\n",
    "    'W': 0,  # Tryptophan\n",
    "    'Y': 0,  # Tyrosine\n",
    "    'V': 0,  # Valine\n",
    "}\n",
    "\n",
    "# https://www.cgl.ucsf.edu/chimera/docs/UsersGuide/midas/hydrophob.html (kd)\n",
    "amino_acid_hydrophobicity = {\n",
    "    'A': 1.8,  # Alanine\n",
    "    'R': -4.5,  # Arginine\n",
    "    'N': -3.5,  # Asparagine\n",
    "    'D': -3.5,  # Aspartic Acid\n",
    "    'C': 2.5,  # Cysteine\n",
    "    'E': -3.5,  # Glutamic Acid\n",
    "    'Q': -3.5,  # Glutamine\n",
    "    'G': -0.4,  # Glycine\n",
    "    'H': -3.2,  # Histidine\n",
    "    'I': 4.5,  # Isoleucine\n",
    "    'L': 3.8,  # Leucine\n",
    "    'K': -3.9,  # Lysine\n",
    "    'M': 1.9,  # Methionine\n",
    "    'F': 2.8,  # Phenylalanine\n",
    "    'P': -1.6,  # Proline\n",
    "    'S': -0.8,  # Serine\n",
    "    'T': -0.7,  # Threonine\n",
    "    'W': -0.9,  # Tryptophan\n",
    "    'Y': -1.3,  # Tyrosine\n",
    "    'V': 4.2,  # Valine\n",
    "}\n",
    "\n",
    "amino_acid_weights = {\n",
    "    'A': 89.09,   # Alanine\n",
    "    'R': 174.20,  # Arginine\n",
    "    'N': 132.12,  # Asparagine\n",
    "    'D': 133.10,  # Aspartic Acid\n",
    "    'C': 121.16,  # Cysteine\n",
    "    'E': 147.13,  # Glutamic Acid\n",
    "    'Q': 146.15,  # Glutamine\n",
    "    'G': 75.07,   # Glycine\n",
    "    'H': 155.16,  # Histidine\n",
    "    'I': 131.18,  # Isoleucine\n",
    "    'L': 131.18,  # Leucine\n",
    "    'K': 146.19,  # Lysine\n",
    "    'M': 149.21,  # Methionine\n",
    "    'F': 165.19,  # Phenylalanine\n",
    "    'P': 115.13,  # Proline\n",
    "    'S': 105.09,  # Serine\n",
    "    'T': 119.12,  # Threonine\n",
    "    'W': 204.23,  # Tryptophan\n",
    "    'Y': 181.19,  # Tyrosine\n",
    "    'V': 117.15,  # Valine\n",
    "}\n",
    "\n",
    "has_sulfur = ['C','M']\n",
    "is_aromatic = ['F','Y','W']"
   ]
  },
  {
   "cell_type": "code",
   "execution_count": 110,
   "id": "e505411e",
   "metadata": {
    "scrolled": true
   },
   "outputs": [
    {
     "name": "stderr",
     "output_type": "stream",
     "text": [
      "100%|███████████████████████████████████████| 1141/1141 [00:23<00:00, 47.87it/s]\n"
     ]
    }
   ],
   "source": [
    "from tqdm import tqdm\n",
    "# the first step is the interpolation of nucleotide\n",
    "alphabet = sorted(set([el for x in df['CDR3'] for el in list(x)]))\n",
    "# work through an example\n",
    "columns = alphabet+['charge','hydrophobicity','weight','sulfur','aromatic']\n",
    "X_peptides = pd.DataFrame(index=range(df.shape[0]), columns=[f'{idx}{col}' for idx in range(100) for col in columns])\n",
    "for pep_idx in tqdm(X_peptides.index):\n",
    "    # grab peptide\n",
    "    peptide = df['CDR3'].iloc[pep_idx]\n",
    "    # create the tracking dataframe\n",
    "    X = pd.DataFrame(np.nan, index=range(100), columns=columns)\n",
    "    step = 100 / len(peptide)\n",
    "    for idx, aa in enumerate(peptide):\n",
    "        # find start and end of each peptide\n",
    "        start, end = round(idx * step), round((idx + 1) * step)\n",
    "        if idx == len(peptide) - 1:\n",
    "            end = 100\n",
    "        # map to the coordinates, weight is scaled by 0.01 to reduce to single digit values, same with hydrop with 0.5\n",
    "        charge = amino_acid_charge[aa]\n",
    "        hydrophobicity = amino_acid_hydrophobicity[aa] / 2\n",
    "        weight = amino_acid_weights[aa] / 100\n",
    "        sulfur = 1 * (aa in has_sulfur)\n",
    "        aromatic = 1 * (aa in is_aromatic)\n",
    "        X.loc[start:end, alphabet] = 0\n",
    "        X.loc[start:end, aa] = 1\n",
    "        X.loc[start:end, ['charge','hydrophobicity','weight','sulfur','aromatic']] = charge, hydrophobicity, weight, sulfur, aromatic\n",
    "    assert not X.isna().any().any()\n",
    "    X_peptides.loc[pep_idx] = X.values.flatten()"
   ]
  },
  {
   "cell_type": "code",
   "execution_count": 111,
   "id": "51ee5217",
   "metadata": {},
   "outputs": [],
   "source": [
    "# define y\n",
    "y = 1 * (df['Epitope gene'] == 'pp65')"
   ]
  },
  {
   "cell_type": "code",
   "execution_count": 112,
   "id": "7d69bdaf",
   "metadata": {},
   "outputs": [
    {
     "data": {
      "text/plain": [
       "2500"
      ]
     },
     "execution_count": 112,
     "metadata": {},
     "output_type": "execute_result"
    }
   ],
   "source": [
    "# now display the number of arguments\n",
    "X_peptides.shape[1]"
   ]
  },
  {
   "cell_type": "code",
   "execution_count": 113,
   "id": "7d665da9",
   "metadata": {},
   "outputs": [],
   "source": [
    "# remove any columns that are constant or all zero\n",
    "X_peptides = X_peptides.loc[:, X_peptides.abs().sum(0) > 0]\n",
    "X_peptides = X_peptides.loc[:, X_peptides.nunique(0) > 1]"
   ]
  },
  {
   "cell_type": "code",
   "execution_count": 114,
   "id": "a7404f0f",
   "metadata": {},
   "outputs": [
    {
     "data": {
      "text/plain": [
       "1707"
      ]
     },
     "execution_count": 114,
     "metadata": {},
     "output_type": "execute_result"
    }
   ],
   "source": [
    "# now display the number of arguments\n",
    "X_peptides.shape[1]"
   ]
  },
  {
   "cell_type": "code",
   "execution_count": 115,
   "id": "caa7b790",
   "metadata": {},
   "outputs": [],
   "source": [
    "# normalize\n",
    "X_peptides -= X_peptides.mean()\n",
    "X_peptides /= X_peptides.std()"
   ]
  },
  {
   "cell_type": "code",
   "execution_count": 116,
   "id": "935c6831",
   "metadata": {},
   "outputs": [],
   "source": [
    "# naively work through everything at once"
   ]
  },
  {
   "cell_type": "code",
   "execution_count": 117,
   "id": "2b6aa060",
   "metadata": {
    "scrolled": true
   },
   "outputs": [
    {
     "data": {
      "text/plain": [
       "0.9991235758106923"
      ]
     },
     "execution_count": 117,
     "metadata": {},
     "output_type": "execute_result"
    }
   ],
   "source": [
    "# now let's create the logit model\n",
    "clf = LogisticRegression(max_iter=1000).fit(X_peptides, y)\n",
    "clf.score(X_peptides, y)"
   ]
  },
  {
   "cell_type": "code",
   "execution_count": 118,
   "id": "060e890f",
   "metadata": {},
   "outputs": [
    {
     "data": {
      "text/plain": [
       "<AxesSubplot:xlabel='CMV', ylabel='prob'>"
      ]
     },
     "execution_count": 118,
     "metadata": {},
     "output_type": "execute_result"
    },
    {
     "data": {
      "image/png": "[encoded data removed]",
      "text/plain": [
       "<Figure size 200x400 with 1 Axes>"
      ]
     },
     "metadata": {},
     "output_type": "display_data"
    }
   ],
   "source": [
    "# retrieve probabilities\n",
    "probs = pd.DataFrame(clf.predict_proba(X_peptides)[:, 1], index=y.index, columns=['prob'])\n",
    "probs['CMV'] = y\n",
    "# plot probabilities\n",
    "fig, ax = plt.subplots(figsize=[2, 4])\n",
    "sns.barplot(x='CMV', y='prob', data=probs, ci=95, errwidth=1.5, capsize=0.3, saturation=1)"
   ]
  },
  {
   "cell_type": "code",
   "execution_count": 119,
   "id": "ac4f65cf",
   "metadata": {},
   "outputs": [],
   "source": [
    "# now let's do true cross validation"
   ]
  },
  {
   "cell_type": "code",
   "execution_count": 128,
   "id": "d567e454",
   "metadata": {
    "scrolled": true
   },
   "outputs": [
    {
     "name": "stdout",
     "output_type": "stream",
     "text": [
      "........................................................................................................................................................................................................................................................................................................................................................................................................................................................................................................................................................................................................................................................................................................................................................................................................................................................................................................................................................................................................................................"
     ]
    }
   ],
   "source": [
    "# now let's create the logit model\n",
    "np.random.seed(0)\n",
    "sss = StratifiedShuffleSplit(n_splits=1000, test_size=0.25, random_state=0)\n",
    "accs = []\n",
    "aucs = []\n",
    "probs = []\n",
    "for idxs, idys in sss.split(X_peptides, y):\n",
    "    # train on idxs\n",
    "    clf = LogisticRegression(max_iter=1000, random_state=0).fit(X_peptides.iloc[idxs], y.iloc[idxs])\n",
    "    # scrutinize via idys\n",
    "    accs.append(clf.score(X_peptides.iloc[idys], y.iloc[idys]))\n",
    "    aucs.append(roc_auc_score(clf.predict(X_peptides.iloc[idys]), y.iloc[idys]))\n",
    "    prob = pd.Series(clf.predict_proba(X_peptides.iloc[idys])[:, 1], index=y.iloc[idys].index)\n",
    "    probs.append(prob)\n",
    "    print('.', end='')"
   ]
  },
  {
   "cell_type": "code",
   "execution_count": 129,
   "id": "de770b01",
   "metadata": {},
   "outputs": [
    {
     "name": "stdout",
     "output_type": "stream",
     "text": [
      "0.8135104895104897 0.0013962116415842055\n",
      "0.8041687805867967 0.001416403929467861\n"
     ]
    },
    {
     "data": {
      "image/png": "[encoded data removed]",
      "text/plain": [
       "<Figure size 200x400 with 1 Axes>"
      ]
     },
     "metadata": {},
     "output_type": "display_data"
    }
   ],
   "source": [
    "# retrieve probabilities\n",
    "probs = pd.DataFrame(pd.concat(probs, axis=1).mean(1).values, index=y.index, columns=['prob'])\n",
    "probs['CMV'] = y\n",
    "# plot probabilities\n",
    "fig, ax = plt.subplots(figsize=[2, 4])\n",
    "sns.barplot(x='CMV', y='prob', data=probs, ci=95, errwidth=1.5, capsize=0.3, saturation=1)\n",
    "print(np.mean(accs), 1.96 * np.std(accs) / np.sqrt(len(accs)))\n",
    "print(np.mean(aucs), 1.96 * np.std(aucs) / np.sqrt(len(aucs)))"
   ]
  },
  {
   "cell_type": "code",
   "execution_count": 130,
   "id": "97355da4",
   "metadata": {
    "scrolled": true
   },
   "outputs": [
    {
     "name": "stdout",
     "output_type": "stream",
     "text": [
      "........................................................................................................................................................................................................................................................................................................................................................................................................................................................................................................................................................................................................................................................................................................................................................................................................................................................................................................................................................................................................................................"
     ]
    }
   ],
   "source": [
    "# now let's create the logit model\n",
    "np.random.seed(0)\n",
    "sss = StratifiedShuffleSplit(n_splits=1000, test_size=0.25, random_state=0)\n",
    "accs = []\n",
    "aucs = []\n",
    "probs = []\n",
    "for idxs, idys in sss.split(X_peptides, y):\n",
    "    # train on idxs\n",
    "    clf = RandomForestClassifier(n_estimators=400, random_state=0).fit(X_peptides.iloc[idxs], y.iloc[idxs])\n",
    "    # scrutinize via idys\n",
    "    accs.append(clf.score(X_peptides.iloc[idys], y.iloc[idys]))\n",
    "    aucs.append(roc_auc_score(clf.predict(X_peptides.iloc[idys]), y.iloc[idys]))\n",
    "    prob = pd.Series(clf.predict_proba(X_peptides.iloc[idys])[:, 1], index=y.iloc[idys].index)\n",
    "    probs.append(prob)\n",
    "    print('.', end='')"
   ]
  },
  {
   "cell_type": "code",
   "execution_count": 131,
   "id": "6d7adc5f",
   "metadata": {},
   "outputs": [
    {
     "name": "stdout",
     "output_type": "stream",
     "text": [
      "0.8665104895104896 0.0012764584569435865\n",
      "0.8618412697471712 0.0013593762246017428\n"
     ]
    },
    {
     "data": {
      "image/png": "[encoded data removed]",
      "text/plain": [
       "<Figure size 200x400 with 1 Axes>"
      ]
     },
     "metadata": {},
     "output_type": "display_data"
    }
   ],
   "source": [
    "# retrieve probabilities\n",
    "probs = pd.DataFrame(pd.concat(probs, axis=1).mean(1).values, index=y.index, columns=['prob'])\n",
    "probs['CMV'] = y\n",
    "# plot probabilities\n",
    "fig, ax = plt.subplots(figsize=[2, 4])\n",
    "sns.barplot(x='CMV', y='prob', data=probs, ci=95, errwidth=1.5, capsize=0.3, saturation=1)\n",
    "print(np.mean(accs), 1.96 * np.std(accs) / np.sqrt(len(accs)))\n",
    "print(np.mean(aucs), 1.96 * np.std(aucs) / np.sqrt(len(aucs)))"
   ]
  },
  {
   "cell_type": "code",
   "execution_count": 132,
   "id": "fdea9728",
   "metadata": {
    "scrolled": true
   },
   "outputs": [
    {
     "name": "stdout",
     "output_type": "stream",
     "text": [
      "........................................................................................................................................................................................................................................................................................................................................................................................................................................................................................................................................................................................................................................................................................................................................................................................................................................................................................................................................................................................................................................"
     ]
    }
   ],
   "source": [
    "# now let's create the logit model\n",
    "np.random.seed(0)\n",
    "sss = StratifiedShuffleSplit(n_splits=1000, test_size=0.25, random_state=0)\n",
    "accs = []\n",
    "aucs = []\n",
    "probs = []\n",
    "for idxs, idys in sss.split(X_peptides, y):\n",
    "    # train on idxs\n",
    "    clf = RandomForestClassifier(n_estimators=200, random_state=0).fit(X_peptides.iloc[idxs], y.iloc[idxs])\n",
    "    # scrutinize via idys\n",
    "    accs.append(clf.score(X_peptides.iloc[idys], y.iloc[idys]))\n",
    "    aucs.append(roc_auc_score(clf.predict(X_peptides.iloc[idys]), y.iloc[idys]))\n",
    "    prob = pd.Series(clf.predict_proba(X_peptides.iloc[idys])[:, 1], index=y.iloc[idys].index)\n",
    "    probs.append(prob)\n",
    "    print('.', end='')"
   ]
  },
  {
   "cell_type": "code",
   "execution_count": 133,
   "id": "638548aa",
   "metadata": {},
   "outputs": [
    {
     "name": "stdout",
     "output_type": "stream",
     "text": [
      "0.8656293706293706 0.001241254171960466\n",
      "0.8609547028119001 0.0013216005086097407\n"
     ]
    },
    {
     "data": {
      "image/png": "[encoded data removed]",
      "text/plain": [
       "<Figure size 200x400 with 1 Axes>"
      ]
     },
     "metadata": {},
     "output_type": "display_data"
    }
   ],
   "source": [
    "# retrieve probabilities\n",
    "probs = pd.DataFrame(pd.concat(probs, axis=1).mean(1).values, index=y.index, columns=['prob'])\n",
    "probs['CMV'] = y\n",
    "# plot probabilities\n",
    "fig, ax = plt.subplots(figsize=[2, 4])\n",
    "sns.barplot(x='CMV', y='prob', data=probs, ci=95, errwidth=1.5, capsize=0.3, saturation=1)\n",
    "print(np.mean(accs), 1.96 * np.std(accs) / np.sqrt(len(accs)))\n",
    "print(np.mean(aucs), 1.96 * np.std(aucs) / np.sqrt(len(aucs)))"
   ]
  },
  {
   "cell_type": "code",
   "execution_count": 136,
   "id": "c8634ec7",
   "metadata": {
    "scrolled": true
   },
   "outputs": [
    {
     "name": "stdout",
     "output_type": "stream",
     "text": [
      "........................................................................................................................................................................................................................................................................................................................................................................................................................................................................................................................................................................................................................................................................................................................................................................................................................................................................................................................................................................................................................................"
     ]
    }
   ],
   "source": [
    "# now let's create the logit model\n",
    "np.random.seed(0)\n",
    "sss = StratifiedShuffleSplit(n_splits=1000, test_size=0.25, random_state=0)\n",
    "accs = []\n",
    "aucs = []\n",
    "probs = []\n",
    "for idxs, idys in sss.split(X_peptides, y):\n",
    "    # train on idxs\n",
    "    clf = RandomForestClassifier(n_estimators=100, random_state=0).fit(X_peptides.iloc[idxs], y.iloc[idxs])\n",
    "    # scrutinize via idys\n",
    "    accs.append(clf.score(X_peptides.iloc[idys], y.iloc[idys]))\n",
    "    aucs.append(roc_auc_score(clf.predict(X_peptides.iloc[idys]), y.iloc[idys]))\n",
    "    prob = pd.Series(clf.predict_proba(X_peptides.iloc[idys])[:, 1], index=y.iloc[idys].index)\n",
    "    probs.append(prob)\n",
    "    print('.', end='')"
   ]
  },
  {
   "cell_type": "code",
   "execution_count": 137,
   "id": "05fb0fcb",
   "metadata": {
    "scrolled": false
   },
   "outputs": [
    {
     "name": "stdout",
     "output_type": "stream",
     "text": [
      "0.8654825174825175 0.0012449211613788256\n",
      "0.8607981582432211 0.0013127674131478888\n"
     ]
    },
    {
     "data": {
      "image/png": "[encoded data removed]",
      "text/plain": [
       "<Figure size 200x400 with 1 Axes>"
      ]
     },
     "metadata": {},
     "output_type": "display_data"
    }
   ],
   "source": [
    "# retrieve probabilities\n",
    "probs = pd.DataFrame(pd.concat(probs, axis=1).mean(1).values, index=y.index, columns=['prob'])\n",
    "probs['CMV'] = y\n",
    "# plot probabilities\n",
    "fig, ax = plt.subplots(figsize=[2, 4])\n",
    "sns.barplot(x='CMV', y='prob', data=probs, ci=95, errwidth=1.5, capsize=0.3, saturation=1)\n",
    "print(np.mean(accs), 1.96 * np.std(accs) / np.sqrt(len(accs)))\n",
    "print(np.mean(aucs), 1.96 * np.std(aucs) / np.sqrt(len(aucs)))"
   ]
  },
  {
   "cell_type": "code",
   "execution_count": 156,
   "id": "a967028a",
   "metadata": {
    "scrolled": true
   },
   "outputs": [
    {
     "name": "stdout",
     "output_type": "stream",
     "text": [
      ".........."
     ]
    }
   ],
   "source": [
    "# now let's create the logit model\n",
    "np.random.seed(0)\n",
    "sss = StratifiedShuffleSplit(n_splits=10, test_size=0.25, random_state=0)\n",
    "accs = []\n",
    "aucs = []\n",
    "probs = []\n",
    "imps = []\n",
    "for idxs, idys in sss.split(X_peptides, y):\n",
    "    # train on idxs\n",
    "    clf = RandomForestClassifier(n_estimators=100, random_state=0).fit(X_peptides.iloc[idxs], y.iloc[idxs])\n",
    "    # scrutinize via idys\n",
    "    accs.append(clf.score(X_peptides.iloc[idys], y.iloc[idys]))\n",
    "    aucs.append(roc_auc_score(clf.predict(X_peptides.iloc[idys]), y.iloc[idys]))\n",
    "    imps.append(pd.Series(clf.feature_importances_, index=clf.feature_names_in_))\n",
    "    prob = pd.Series(clf.predict_proba(X_peptides.iloc[idys])[:, 1], index=y.iloc[idys].index)\n",
    "    probs.append(prob)\n",
    "    print('.', end='')"
   ]
  },
  {
   "cell_type": "code",
   "execution_count": 159,
   "id": "32f4ccc4",
   "metadata": {},
   "outputs": [
    {
     "data": {
      "text/plain": [
       "[Text(0.5, 0, 'Rank'), Text(0, 0.5, 'Importance')]"
      ]
     },
     "execution_count": 159,
     "metadata": {},
     "output_type": "execute_result"
    },
    {
     "data": {
      "image/png": "[encoded data removed]",
      "text/plain": [
       "<Figure size 400x400 with 1 Axes>"
      ]
     },
     "metadata": {},
     "output_type": "display_data"
    }
   ],
   "source": [
    "imps = pd.concat(imps, axis=1).mean(1).sort_values()\n",
    "fig, ax = plt.subplots(figsize=[4, 4])\n",
    "ax.grid(False)\n",
    "ax.scatter(range(imps.shape[0]), imps[::-1])\n",
    "ax.set(xlabel='Rank', ylabel='Importance')"
   ]
  },
  {
   "cell_type": "code",
   "execution_count": 160,
   "id": "e63d777b",
   "metadata": {},
   "outputs": [],
   "source": [
    "# now let's just view per feature\n",
    "imps = imps[imps >= 0.001].reset_index()\n",
    "imps['group'] = imps['index'].str.slice(2, )\n",
    "imps['position'] = imps['index'].str.slice(0, 2)"
   ]
  }
 ],
 "metadata": {
  "kernelspec": {
   "display_name": "Python 3",
   "language": "python",
   "name": "python3"
  },
  "language_info": {
   "codemirror_mode": {
    "name": "ipython",
    "version": 3
   },
   "file_extension": ".py",
   "mimetype": "text/x-python",
   "name": "python",
   "nbconvert_exporter": "python",
   "pygments_lexer": "ipython3",
   "version": "3.8.13"
  }
 },
 "nbformat": 4,
 "nbformat_minor": 5
}
