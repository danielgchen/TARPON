{
 "cells": [
  {
   "cell_type": "code",
   "execution_count": 12,
   "id": "e0a963d5",
   "metadata": {},
   "outputs": [],
   "source": [
    "# public libraries\n",
    "import pandas as pd\n",
    "import numpy as np\n",
    "import pickle as pkl"
   ]
  },
  {
   "cell_type": "markdown",
   "id": "1bce84c9",
   "metadata": {},
   "source": [
    "## compiling the datasets"
   ]
  },
  {
   "cell_type": "code",
   "execution_count": 2,
   "id": "9aaf6c6f",
   "metadata": {},
   "outputs": [],
   "source": [
    "# ERGO-II\n",
    "\n",
    "# mcpas test \n",
    "results = pkl.load(open('../external/ERGO-II/Samples/mcpas_test_samples.pickle', 'rb'))\n",
    "results = pd.DataFrame(results)[['tcrb','peptide','sign']].dropna()\n",
    "results = results.loc[(results != 'UNK').all(1)].reset_index().iloc[:, 1:]\n",
    "results.columns = ['CDR3','Epitope','y']\n",
    "results.to_csv('../outputs/model_comparison/external.ergoii.mcpas_test.csv')\n",
    "# vdjdb test (w/o 10x)\n",
    "results = pkl.load(open('../external/ERGO-II/Samples/vdjdb_no10x_test_samples.pickle', 'rb'))\n",
    "results = pd.DataFrame(results)[['tcrb','peptide','sign']].dropna()\n",
    "results = results.loc[(results != 'UNK').all(1)].reset_index().iloc[:, 1:]\n",
    "results.columns = ['CDR3','Epitope','y']\n",
    "results.to_csv('../outputs/model_comparison/external.ergoii.vdjdb_no10x_test.csv')\n",
    "# vdjdb test \n",
    "results = pkl.load(open('../external/ERGO-II/Samples/vdjdb_test_samples.pickle', 'rb'))\n",
    "results = pd.DataFrame(results)[['tcrb','peptide','sign']].dropna()\n",
    "results = results.loc[(results != 'UNK').all(1)].reset_index().iloc[:, 1:]\n",
    "results.columns = ['CDR3','Epitope','y']\n",
    "results.to_csv('../outputs/model_comparison/external.ergoii.vdjdb_test.csv')"
   ]
  },
  {
   "cell_type": "code",
   "execution_count": 3,
   "id": "38a07c88",
   "metadata": {},
   "outputs": [],
   "source": [
    "# Net-TCR-2.0\n",
    "\n",
    "# mira 90\n",
    "results = pd.read_csv('../external/NetTCR-2.0/data/mira_eval_threshold90.csv')\n",
    "results.columns = ['CDR3','Epitope','y']\n",
    "results.to_csv('../outputs/model_comparison/external.nettcr2.mira_eval_threshold90.csv')\n",
    "\n",
    "# mira 92\n",
    "results = pd.read_csv('../external/NetTCR-2.0/data/mira_eval_threshold92.csv')\n",
    "results.columns = ['CDR3','Epitope','y']\n",
    "results.to_csv('../outputs/model_comparison/external.nettcr2.mira_eval_threshold92.csv')\n",
    "\n",
    "# mira 94\n",
    "results = pd.read_csv('../external/NetTCR-2.0/data/mira_eval_threshold94.csv')\n",
    "results.columns = ['CDR3','Epitope','y']\n",
    "results.to_csv('../outputs/model_comparison/external.nettcr2.mira_eval_threshold94.csv')\n",
    "\n",
    "# mira 99\n",
    "results = pd.read_csv('../external/NetTCR-2.0/data/mira_eval_threshold99.csv')\n",
    "results.columns = ['CDR3','Epitope','y']\n",
    "results.to_csv('../outputs/model_comparison/external.nettcr2.mira_eval_threshold99.csv')"
   ]
  },
  {
   "cell_type": "code",
   "execution_count": 4,
   "id": "c7e93e9d",
   "metadata": {},
   "outputs": [],
   "source": [
    "# pMT-net (could not find binder column in https://github.com/tianshilu/pMTnet/blob/master/data/testing_data.csv)\n",
    "# ^ in most recent commit 4cb60c4c14fe90e3107ba82fb4abaa250bd70654"
   ]
  },
  {
   "cell_type": "code",
   "execution_count": 5,
   "id": "2b42be21",
   "metadata": {},
   "outputs": [],
   "source": [
    "# ImRex (could not finder testing data formatted in https://github.com/pmoris/ImRex/tree/master/data)\n",
    "# ^ in most recent commit ec52762a5f4ca3ef86e2f088fa90fd884b64b1c5"
   ]
  },
  {
   "cell_type": "code",
   "execution_count": 16,
   "id": "f529163f",
   "metadata": {},
   "outputs": [],
   "source": [
    "# ATM-TCR\n",
    "\n",
    "# covid-19\n",
    "results = pd.read_csv('../external/ATM-TCR/data/covid19_data.csv', index_col=None, header=None)\n",
    "results.columns = ['Epitope','CDR3','y']\n",
    "results[['CDR3','Epitope','y']].to_csv('../outputs/model_comparison/external.atmtcr.covid19.csv')\n",
    "\n",
    "# combined is of bad quality with non-traditional or aberrant amino acids such as O"
   ]
  },
  {
   "cell_type": "code",
   "execution_count": 7,
   "id": "4c4d18ba",
   "metadata": {},
   "outputs": [],
   "source": [
    "# AVIB (the test datasets will be separately written out because it requires on the fly random splitting)"
   ]
  },
  {
   "cell_type": "markdown",
   "id": "cd14dab6",
   "metadata": {},
   "source": [
    "## converting them to readable formats by each model"
   ]
  },
  {
   "cell_type": "code",
   "execution_count": 14,
   "id": "2c6645d8",
   "metadata": {
    "scrolled": true
   },
   "outputs": [],
   "source": [
    "from glob import glob\n",
    "\n",
    "# we want to test on all on the externals\n",
    "for fn_org in glob('../outputs/model_comparison/external.*.csv'):\n",
    "    # read in the external data\n",
    "    df_ext = pd.read_csv(fn_org, index_col=0).reset_index().iloc[:, 1:]\n",
    "    X = df_ext[['CDR3','Epitope']]\n",
    "    y = df_ext['y']\n",
    "    \n",
    "    # write for TARPON\n",
    "    fn = fn_org.replace('.csv','.TARPON.csv').replace('external.','external_test.')\n",
    "    X.to_csv(fn)\n",
    "    \n",
    "    # write for ATM-TCR\n",
    "    fn = fn_org.replace('.csv','.ATM-TCR.csv').replace('external.','external_test.')\n",
    "    pd.concat([X, y], axis=1).to_csv(fn, header=False, index=False)\n",
    "\n",
    "    # write for pMTnet\n",
    "    tmp = X.copy()\n",
    "    tmp['HLA'] = 'A*02:01'\n",
    "    tmp.columns = ['CDR3','Antigen','HLA']\n",
    "    fn = fn_org.replace('.csv','.pMTnet.csv').replace('external.','external_test.')\n",
    "    tmp.to_csv(fn, index=False)\n",
    "\n",
    "#     # ignored because only restricted to three antigens\n",
    "#     # write for NetTCR2\n",
    "#     fn = fn_org.replace('.csv','.NetTCR2.csv').replace('external.','external_test.')\n",
    "#     X['CDR3'].to_csv(fn, header=False, index=False)\n",
    "\n",
    "    # write for NetTCR2 (CLI version)\n",
    "    fn = fn_org.replace('.csv','.NetTCR2_CLI.csv').replace('external.','external_test.')\n",
    "    tmp = X.copy()\n",
    "    tmp.columns = ['CDR3b','peptide']\n",
    "    tmp['CDR3a'] = None\n",
    "    tmp[['CDR3a','CDR3b','peptide']].to_csv(fn, index=False)\n",
    "\n",
    "    # write for ImRex\n",
    "    fn = fn_org.replace('.csv','.ImRex.csv').replace('external.','external_test.')\n",
    "    tmp = X.copy()\n",
    "    tmp.columns = ['cdr3','antigen.epitope']\n",
    "    tmp.to_csv(fn, index=False, sep=';')\n",
    "\n",
    "    # write for ERGO-II\n",
    "    fn = fn_org.replace('.csv','.ERGOII.csv').replace('external.','external_test.')\n",
    "    tmp = X.copy()\n",
    "    X.columns = ['TRB','Peptide']\n",
    "    X['MHC'] = 'HLA-A*02'\n",
    "    X['T-Cell-Type'] = 'CD8'\n",
    "    X = X.T.reindex(['TRA','TRB','TRAV','TRAJ','TRBV','TRBJ','T-Cell-Type','Peptide','MHC']).T\n",
    "    X.to_csv(fn, index=False)"
   ]
  },
  {
   "cell_type": "markdown",
   "id": "0419f41e",
   "metadata": {},
   "source": [
    "## testing them on each model"
   ]
  },
  {
   "cell_type": "code",
   "execution_count": 24,
   "id": "5af68fc7",
   "metadata": {},
   "outputs": [],
   "source": [
    "# # NetTCR-2.0\n",
    "\n",
    "# # on NetTCR-2.0\n",
    "# python nettcr.py -tr test/sample_train.csv -c b \\\n",
    "# -te ../../outputs/model_comparison/external_test.nettcr2.mira_eval_threshold90.NetTCR2_CLI.csv \\\n",
    "# -o ../../outputs/model_comparison/external_test_nettcr2.nettcr2.mira_eval_threshold90.csv"
   ]
  },
  {
   "cell_type": "code",
   "execution_count": null,
   "id": "9015361f",
   "metadata": {},
   "outputs": [],
   "source": [
    "# # ERGO-II (v2 is simply Predict.py but writing it to sys.argv[3])\n",
    "\n",
    "# # on NetTCR-2.0\n",
    "# python Predictv2.py vdjdb ../../outputs/model_comparison/external_test.nettcr2.mira_eval_threshold90.ERGOII.csv \\\n",
    "# ../../outputs/model_comparison/external_test_ergoiivdjdb.nettcr2.mira_eval_threshold90.csv\n",
    "# python Predictv2.py mcpas ../../outputs/model_comparison/external_test.nettcr2.mira_eval_threshold90.ERGOII.csv \\\n",
    "# ../../outputs/model_comparison/external_test_ergoiimcpas.nettcr2.mira_eval_threshold90.csv\n",
    "\n",
    "# # on ERGO-II\n",
    "# python Predictv2.py vdjdb ../../outputs/model_comparison/external_test.ergoii.mcpas_test.ERGOII.csv \\\n",
    "# ../../outputs/model_comparison/external_test_ergoiivdjdb.ergoii.mcpas_test.csv\n",
    "# python Predictv2.py mcpas ../../outputs/model_comparison/external_test.ergoii.mcpas_test.ERGOII.csv \\\n",
    "# ../../outputs/model_comparison/external_test_ergoiimcpas.ergoii.mcpas_test.csv\n",
    "\n",
    "# # on ATM-TCR (fails on combined)\n",
    "# python Predictv2.py vdjdb ../../outputs/model_comparison/external_test.atmtcr.combined.ERGOII.csv \\\n",
    "# ../../outputs/model_comparison/external_test_ergoiivdjdb.atmtcr.combined.csv\n",
    "# python Predictv2.py mcpas ../../outputs/model_comparison/external_test.atmtcr.combined.ERGOII.csv \\\n",
    "# ../../outputs/model_comparison/external_test_ergoiimcpas.atmtcr.combined.csv\n",
    "\n",
    "# # on AVIB\n",
    "# python Predictv2.py vdjdb ../../outputs/model_comparison/external_test.avib.alpha_beta_splits.beta.rep_0.ERGOII.csv \\\n",
    "# ../../outputs/model_comparison/external_test_ergoiivdjdb.avib.alpha_beta_splits.beta.rep_0.csv\n",
    "# python Predictv2.py mcpas ../../outputs/model_comparison/external_test.avib.alpha_beta_splits.beta.rep_0.ERGOII.csv \\\n",
    "# ../../outputs/model_comparison/external_test_ergoiimcpas.avib.alpha_beta_splits.beta.rep_0.csv\n"
   ]
  },
  {
   "cell_type": "code",
   "execution_count": null,
   "id": "90be96bf",
   "metadata": {},
   "outputs": [],
   "source": [
    "# ImRex\n",
    "\n",
    "# # on NetTCR-2.0\n",
    "# python ./src/scripts/predict/predict.py --model ./models/pretrained/2020-07-24_19-18-39_trbmhcidown-shuffle-padded-b32-lre4-reg001/2020-07-24_19-18-39_trbmhcidown-shuffle-padded-b32-lre4-reg001.h5 \\\n",
    "# --input ../../outputs/model_comparison/external_test.nettcr2.mira_eval_threshold90.ImRex.csv \\\n",
    "# --output ../../outputs/model_comparison/external_test_imrex.nettcr2.mira_eval_threshold90.csv\n",
    "\n",
    "# # on ERGO-II\n",
    "# python ./src/scripts/predict/predict.py --model ./models/pretrained/2020-07-24_19-18-39_trbmhcidown-shuffle-padded-b32-lre4-reg001/2020-07-24_19-18-39_trbmhcidown-shuffle-padded-b32-lre4-reg001.h5 \\\n",
    "# --input ../../outputs/model_comparison/external_test.ergoii.mcpas_test.ImRex.csv \\\n",
    "# --output ../../outputs/model_comparison/external_test_imrex.ergoii.mcpas_test.csv\n",
    "\n",
    "# # on ATM-TCR\n",
    "# python ./src/scripts/predict/predict.py --model ./models/pretrained/2020-07-24_19-18-39_trbmhcidown-shuffle-padded-b32-lre4-reg001/2020-07-24_19-18-39_trbmhcidown-shuffle-padded-b32-lre4-reg001.h5 \\\n",
    "# --input ../../outputs/model_comparison/external_test.atmtcr.combined.ImRex.csv \\\n",
    "# --output ../../outputs/model_comparison/external_test_imrex.atmtcr.combined.csv\n",
    "\n",
    "# # on AVIB\n",
    "# python ./src/scripts/predict/predict.py --model ./models/pretrained/2020-07-24_19-18-39_trbmhcidown-shuffle-padded-b32-lre4-reg001/2020-07-24_19-18-39_trbmhcidown-shuffle-padded-b32-lre4-reg001.h5 \\\n",
    "# --input ../../outputs/model_comparison/external_test.avib.alpha_beta_splits.beta.rep_0.ImRex.csv \\\n",
    "# --output ../../outputs/model_comparison/external_test_imrex.avib.alpha_beta_splits.beta.rep_0.csv"
   ]
  },
  {
   "cell_type": "code",
   "execution_count": null,
   "id": "7e8d7ce4",
   "metadata": {},
   "outputs": [],
   "source": [
    "# pMTnet\n",
    "\n",
    "# # on NetTCR-2.0\n",
    "# python pMTnet.py \\\n",
    "# -input /ssd1/dchen/GNN_PEPTIDE_TCR/outputs/model_comparison/external_test.nettcr2.mira_eval_threshold90.pMTnet.csv \\\n",
    "# -library /ssd1/dchen/GNN_PEPTIDE_TCR/external/pMTnet/library \\\n",
    "# -output /ssd1/dchen/GNN_PEPTIDE_TCR/outputs/model_comparison/external_test_pmtnet.nettcr2.mira_eval_threshold90 \\\n",
    "# -output_log /ssd1/dchen/GNN_PEPTIDE_TCR/outputs/model_comparison/TMP.log\n",
    "\n",
    "# # on ERGO-II\n",
    "# python pMTnet.py \\\n",
    "# -input /ssd1/dchen/GNN_PEPTIDE_TCR/outputs/model_comparison/external_test.ergoii.mcpas_test.pMTnet.csv \\\n",
    "# -library /ssd1/dchen/GNN_PEPTIDE_TCR/external/pMTnet/library \\\n",
    "# -output /ssd1/dchen/GNN_PEPTIDE_TCR/outputs/model_comparison/external_test_pmtnet.ergoii.mcpas_test \\\n",
    "# -output_log /ssd1/dchen/GNN_PEPTIDE_TCR/outputs/model_comparison/TMP.log\n",
    "\n",
    "# # on ATM-TCR\n",
    "# python pMTnet.py \\\n",
    "# -input /ssd1/dchen/GNN_PEPTIDE_TCR/outputs/model_comparison/external_test.atmtcr.combined.pMTnet.csv \\\n",
    "# -library /ssd1/dchen/GNN_PEPTIDE_TCR/external/pMTnet/library \\\n",
    "# -output /ssd1/dchen/GNN_PEPTIDE_TCR/outputs/model_comparison/external_test_pmtnet.atmtcr.combined \\\n",
    "# -output_log /ssd1/dchen/GNN_PEPTIDE_TCR/outputs/model_comparison/TMP.log\n",
    "\n",
    "# # on AVIB\n",
    "# python pMTnet.py \\\n",
    "# -input /ssd1/dchen/GNN_PEPTIDE_TCR/outputs/model_comparison/external_test.avib.alpha_beta_splits.beta.rep_0.pMTnet.csv \\\n",
    "# -library /ssd1/dchen/GNN_PEPTIDE_TCR/external/pMTnet/library \\\n",
    "# -output /ssd1/dchen/GNN_PEPTIDE_TCR/outputs/model_comparison/external_test_pmtnet.avib.alpha_beta_splits.beta.rep_0 \\\n",
    "# -output_log /ssd1/dchen/GNN_PEPTIDE_TCR/outputs/model_comparison/TMP.log"
   ]
  },
  {
   "cell_type": "code",
   "execution_count": null,
   "id": "0024831c",
   "metadata": {},
   "outputs": [],
   "source": [
    "# ATM-TCR\n",
    "\n",
    "# # on NetTCR-2.0\n",
    "# python main.py --infile /ssd1/dchen/GNN_PEPTIDE_TCR/external/ATM-TCR/data/combined_dataset.csv \\\n",
    "# --indepfile /ssd1/dchen/GNN_PEPTIDE_TCR/outputs/model_comparison/external_test.nettcr2.mira_eval_threshold90.ATM-TCR.csv \\\n",
    "# --model_name original.ckpt --mode test --save_model False --cuda False\n",
    "\n",
    "# # on ERGO-II\n",
    "# python main.py --infile /ssd1/dchen/GNN_PEPTIDE_TCR/external/ATM-TCR/data/combined_dataset.csv \\\n",
    "# --indepfile /ssd1/dchen/GNN_PEPTIDE_TCR/outputs/model_comparison/external_test.ergoii.mcpas_test.ATM-TCR.csv \\\n",
    "# --model_name original.ckpt --mode test --save_model False --cuda False\n",
    "\n",
    "# # on ATM-TCR\n",
    "# python main.py --infile /ssd1/dchen/GNN_PEPTIDE_TCR/external/ATM-TCR/data/combined_dataset.csv \\\n",
    "# --indepfile /ssd1/dchen/GNN_PEPTIDE_TCR/outputs/model_comparison/external_test.atmtcr.combined.ATM-TCR.csv \\\n",
    "# --model_name original.ckpt --mode test --save_model False --cuda False\n",
    "\n",
    "# # on AVIB\n",
    "# python main.py --infile /ssd1/dchen/GNN_PEPTIDE_TCR/external/ATM-TCR/data/combined_dataset.csv \\\n",
    "# --indepfile /ssd1/dchen/GNN_PEPTIDE_TCR/outputs/model_comparison/external_test.avib.alpha_beta_splits.beta.rep_0.ATM-TCR.csv \\\n",
    "# --model_name original.ckpt --mode test --save_model False --cuda False"
   ]
  },
  {
   "cell_type": "code",
   "execution_count": null,
   "id": "5184c0f9",
   "metadata": {},
   "outputs": [],
   "source": [
    "# TARPON\n",
    "\n",
    "# # on NetTCR-2.0\n",
    "# python fishing.py \\\n",
    "# -b /ssd1/dchen/GNN_PEPTIDE_TCR/outputs/model_comparison/external_test.nettcr2.mira_eval_threshold90.TARPON.csv \\\n",
    "# -c /ssd1/dchen/GNN_PEPTIDE_TCR/outputs/model_comparison/external_test_tarpon.nettcr2.mira_eval_threshold90.csv\n",
    "\n",
    "# # on ERGO-II\n",
    "# python fishing.py \\\n",
    "# -b /ssd1/dchen/GNN_PEPTIDE_TCR/outputs/model_comparison/external_test.ergoii.mcpas_test.TARPON.csv \\\n",
    "# -c /ssd1/dchen/GNN_PEPTIDE_TCR/outputs/model_comparison/external_test_tarpon.ergoii.mcpas_test.csv\n",
    "\n",
    "# # on ATM-TCR\n",
    "# python fishing.py \\\n",
    "# -b /ssd1/dchen/GNN_PEPTIDE_TCR/outputs/model_comparison/external_test.atmtcr.combined.TARPON.csv \\\n",
    "# -c /ssd1/dchen/GNN_PEPTIDE_TCR/outputs/model_comparison/external_test_tarpon.atmtcr.combined.csv\n",
    "\n",
    "# # on AVIB\n",
    "# python fishing.py \\\n",
    "# -b /ssd1/dchen/GNN_PEPTIDE_TCR/outputs/model_comparison/external_test.avib.alpha_beta_splits.beta.rep_0.TARPON.csv \\\n",
    "# -c /ssd1/dchen/GNN_PEPTIDE_TCR/outputs/model_comparison/external_test_tarpon.avib.alpha_beta_splits.beta.rep_0.csv"
   ]
  }
 ],
 "metadata": {
  "kernelspec": {
   "display_name": "Python 3",
   "language": "python",
   "name": "python3"
  },
  "language_info": {
   "codemirror_mode": {
    "name": "ipython",
    "version": 3
   },
   "file_extension": ".py",
   "mimetype": "text/x-python",
   "name": "python",
   "nbconvert_exporter": "python",
   "pygments_lexer": "ipython3",
   "version": "3.8.13"
  }
 },
 "nbformat": 4,
 "nbformat_minor": 5
}
